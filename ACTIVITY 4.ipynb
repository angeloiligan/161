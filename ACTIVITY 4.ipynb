{
 "cells": [
  {
   "cell_type": "markdown",
   "id": "0d857546-1169-45a6-a5d7-8c5c9ff1f116",
   "metadata": {},
   "source": [
    "Number 1"
   ]
  },
  {
   "cell_type": "code",
   "execution_count": 8,
   "id": "eee21dbe-42e9-4e2b-91f6-4d52853f7743",
   "metadata": {},
   "outputs": [
    {
     "name": "stdout",
     "output_type": "stream",
     "text": [
      "8.98846567431158e+307\n"
     ]
    }
   ],
   "source": [
    "num = 1\n",
    "n = 1023\n",
    "for i in range (0, n):\n",
    "    num = num *2\n",
    "print (float(num))"
   ]
  },
  {
   "cell_type": "code",
   "execution_count": 10,
   "id": "0dba1a62-60dc-42e3-bf2b-ae362de7f322",
   "metadata": {
    "scrolled": true
   },
   "outputs": [
    {
     "name": "stdout",
     "output_type": "stream",
     "text": [
      "5e-324\n"
     ]
    }
   ],
   "source": [
    "num = 1\n",
    "n = 1074\n",
    "for i in range (0, n):\n",
    "    num = num /2 \n",
    "print (num)"
   ]
  },
  {
   "cell_type": "markdown",
   "id": "0aefbb29-a38f-44be-8889-3462cf765d4f",
   "metadata": {},
   "source": [
    "Number 2"
   ]
  },
  {
   "cell_type": "code",
   "execution_count": 17,
   "id": "f174f2b1-8107-4a34-bc2c-6a6363708c49",
   "metadata": {},
   "outputs": [
    {
     "name": "stdout",
     "output_type": "stream",
     "text": [
      "2.220446049250313e-16 1.0000000000000002\n"
     ]
    }
   ],
   "source": [
    "eps = 1.\n",
    "n = 52\n",
    "for i in range (0, n):\n",
    "    eps = eps / 2 \n",
    "print (eps, 1.0 + eps)\n",
    "t = 1\n",
    "h = 0.1"
   ]
  },
  {
   "cell_type": "markdown",
   "id": "dce73e71-4a72-41f8-bd49-f7c4fcbf07cc",
   "metadata": {},
   "source": [
    "Number 3"
   ]
  },
  {
   "cell_type": "code",
   "execution_count": 20,
   "id": "9dc42e87-ab6f-4f9c-b205-22f1d01a9d73",
   "metadata": {},
   "outputs": [
    {
     "name": "stdout",
     "output_type": "stream",
     "text": [
      "-0.14937587436784194\n",
      "-0.09983341664682815\n",
      "Error = -0.04954245772101379\n",
      "1.1623184008452214\n",
      "1.1051709180756477\n",
      "Error = 0.05714748276957371\n"
     ]
    }
   ],
   "source": [
    "import numpy as np \n",
    "t = 0.1 \n",
    "h = 0.1\n",
    "deriv = (np.cos(t+h) - np.cos(t))/h\n",
    "print (deriv)\n",
    "\n",
    "print (-np.sin(t))\n",
    "print (\"Error =\", deriv -(-np.sin(t)))\n",
    "\n",
    "deriv = (np.e**(t+h) - np.e**(t))/h\n",
    "print (deriv)\n",
    "\n",
    "print(np.e**(t))\n",
    "print (\"Error =\", deriv - np.e**(t))"
   ]
  },
  {
   "cell_type": "code",
   "execution_count": 22,
   "id": "fdce915e-f448-4589-a96d-dc0307134711",
   "metadata": {},
   "outputs": [
    {
     "name": "stdout",
     "output_type": "stream",
     "text": [
      "-0.8670618444256234\n",
      "-0.8414709848078965\n",
      "Error = -0.02559085961772689\n",
      "2.858841954873883\n",
      "2.718281828459045\n",
      "Error = 0.14056012641483795\n"
     ]
    }
   ],
   "source": [
    "t = 1 \n",
    "h = 0.1\n",
    "deriv = (np.cos(t+h) - np.cos(t))/h\n",
    "print (deriv)\n",
    "\n",
    "print (-np.sin(t))\n",
    "print (\"Error =\", deriv -(-np.sin(t)))\n",
    "\n",
    "deriv = (np.e**(t+h) - np.e**(t))/h\n",
    "print (deriv)\n",
    "\n",
    "print(np.e**(t))\n",
    "print (\"Error =\", deriv - np.e**(t))"
   ]
  },
  {
   "cell_type": "code",
   "execution_count": 24,
   "id": "16216457-8ffd-46de-80bc-356e53948357",
   "metadata": {},
   "outputs": [
    {
     "name": "stdout",
     "output_type": "stream",
     "text": [
      "0.46244209460957975\n",
      "0.5063656411097588\n",
      "Error = -0.043923546500179045\n",
      "2.8271174769967025e+43\n",
      "2.6881171418161212e+43\n",
      "Error = 1.390003351805812e+42\n"
     ]
    }
   ],
   "source": [
    "t = 100 \n",
    "h = 0.1\n",
    "deriv = (np.cos(t+h) - np.cos(t))/h\n",
    "print (deriv)\n",
    "\n",
    "print (-np.sin(t))\n",
    "print (\"Error =\", deriv -(-np.sin(t)))\n",
    "\n",
    "deriv = (np.e**(t+h) - np.e**(t))/h\n",
    "print (deriv)\n",
    "\n",
    "print(np.e**(t))\n",
    "print (\"Error =\", deriv - np.e**(t))"
   ]
  },
  {
   "cell_type": "code",
   "execution_count": 26,
   "id": "5ef08565-e660-4d1b-9bf5-838a0fcba15e",
   "metadata": {},
   "outputs": [
    {
     "name": "stdout",
     "output_type": "stream",
     "text": [
      "-0.09979182458924041\n",
      "-0.09983341664682815\n",
      "Error = 4.159205758774709e-05\n",
      "1.1056314635225895\n",
      "1.1051709180756477\n",
      "Error = 0.00046054544694174027\n"
     ]
    }
   ],
   "source": [
    "t = 0.1 \n",
    "h = 0.1\n",
    "deriv = (np.cos(t+(h/2)) - np.cos(t-(h/2)))/h\n",
    "print (deriv)\n",
    "\n",
    "print (-np.sin(t))\n",
    "print (\"Error =\", deriv -(-np.sin(t)))\n",
    "\n",
    "deriv = (np.e**(t+(h/2)) - np.e**(t-(h/2)))/h\n",
    "print (deriv)\n",
    "\n",
    "print(np.e**(t))\n",
    "print (\"Error =\", deriv - np.e**(t))"
   ]
  },
  {
   "cell_type": "code",
   "execution_count": 28,
   "id": "9898e5b8-6be9-439b-b4f9-dafe798e2e72",
   "metadata": {},
   "outputs": [
    {
     "name": "stdout",
     "output_type": "stream",
     "text": [
      "-0.8411204157215652\n",
      "-0.8414709848078965\n",
      "Error = 0.00035056908633135375\n",
      "2.719414587473179\n",
      "2.718281828459045\n",
      "Error = 0.0011327590141338995\n"
     ]
    }
   ],
   "source": [
    "t = 1 \n",
    "h = 0.1\n",
    "deriv = (np.cos(t+(h/2)) - np.cos(t-(h/2)))/h\n",
    "print (deriv)\n",
    "\n",
    "print (-np.sin(t))\n",
    "print (\"Error =\", deriv -(-np.sin(t)))\n",
    "\n",
    "deriv = (np.e**(t+(h/2)) - np.e**(t-(h/2)))/h\n",
    "print (deriv)\n",
    "\n",
    "print(np.e**(t))\n",
    "print (\"Error =\", deriv - np.e**(t))"
   ]
  },
  {
   "cell_type": "code",
   "execution_count": 30,
   "id": "66c99691-42fe-4703-a4f3-3129838915e3",
   "metadata": {},
   "outputs": [
    {
     "name": "stdout",
     "output_type": "stream",
     "text": [
      "0.5061546817975748\n",
      "0.5063656411097588\n",
      "Error = -0.00021095931218395592\n",
      "2.689237330639491e+43\n",
      "2.6881171418161212e+43\n",
      "Error = 1.1201888233696916e+40\n"
     ]
    }
   ],
   "source": [
    "t = 100 \n",
    "h = 0.1\n",
    "deriv = (np.cos(t+(h/2)) - np.cos(t-(h/2)))/h\n",
    "print (deriv)\n",
    "\n",
    "print (-np.sin(t))\n",
    "print (\"Error =\", deriv -(-np.sin(t)))\n",
    "\n",
    "deriv = (np.e**(t+(h/2)) - np.e**(t-(h/2)))/h\n",
    "print (deriv)\n",
    "\n",
    "print(np.e**(t))\n",
    "print (\"Error =\", deriv - np.e**(t))"
   ]
  },
  {
   "cell_type": "code",
   "execution_count": null,
   "id": "6a474e84-dac5-4845-9e77-f6dd05c85f8f",
   "metadata": {},
   "outputs": [],
   "source": [
    "h = 0.001"
   ]
  },
  {
   "cell_type": "code",
   "execution_count": 32,
   "id": "e12d1a7a-0c51-4350-b61b-7ca4c8cd6c60",
   "metadata": {},
   "outputs": [
    {
     "name": "stdout",
     "output_type": "stream",
     "text": [
      "-0.10033090204919493\n",
      "-0.09983341664682815\n",
      "Error = -0.0004974854023667707\n",
      "1.1057236877758392\n",
      "1.1051709180756477\n",
      "Error = 0.0005527697001914689\n"
     ]
    }
   ],
   "source": [
    "t = 0.1 \n",
    "h = 0.001\n",
    "deriv = (np.cos(t+h) - np.cos(t))/h\n",
    "print (deriv)\n",
    "\n",
    "print (-np.sin(t))\n",
    "print (\"Error =\", deriv -(-np.sin(t)))\n",
    "\n",
    "deriv = (np.e**(t+h) - np.e**(t))/h\n",
    "print (deriv)\n",
    "\n",
    "print(np.e**(t))\n",
    "print (\"Error =\", deriv - np.e**(t))"
   ]
  },
  {
   "cell_type": "code",
   "execution_count": 34,
   "id": "9ad9b6f9-2148-4472-9437-c0adfb053b3f",
   "metadata": {},
   "outputs": [
    {
     "name": "stdout",
     "output_type": "stream",
     "text": [
      "-0.8417409956930078\n",
      "-0.8414709848078965\n",
      "Error = -0.00027001088511124927\n",
      "2.7196414225332255\n",
      "2.718281828459045\n",
      "Error = 0.0013595940741804036\n"
     ]
    }
   ],
   "source": [
    "t = 1 \n",
    "h = 0.001\n",
    "deriv = (np.cos(t+h) - np.cos(t))/h\n",
    "print (deriv)\n",
    "\n",
    "print (-np.sin(t))\n",
    "print (\"Error =\", deriv -(-np.sin(t)))\n",
    "\n",
    "deriv = (np.e**(t+h) - np.e**(t))/h\n",
    "print (deriv)\n",
    "\n",
    "print(np.e**(t))\n",
    "print (\"Error =\", deriv - np.e**(t))"
   ]
  },
  {
   "cell_type": "code",
   "execution_count": 36,
   "id": "ae00a17a-951d-4d4c-8379-4ab060305726",
   "metadata": {},
   "outputs": [
    {
     "name": "stdout",
     "output_type": "stream",
     "text": [
      "0.5059343973177199\n",
      "0.5063656411097588\n",
      "Error = -0.000431243792038849\n",
      "2.6894616485312773e+43\n",
      "2.6881171418161212e+43\n",
      "Error = 1.3445067151560745e+40\n"
     ]
    }
   ],
   "source": [
    "t = 100 \n",
    "h = 0.001\n",
    "deriv = (np.cos(t+h) - np.cos(t))/h\n",
    "print (deriv)\n",
    "\n",
    "print (-np.sin(t))\n",
    "print (\"Error =\", deriv -(-np.sin(t)))\n",
    "\n",
    "deriv = (np.e**(t+h) - np.e**(t))/h\n",
    "print (deriv)\n",
    "\n",
    "print(np.e**(t))\n",
    "print (\"Error =\", deriv - np.e**(t))"
   ]
  },
  {
   "cell_type": "code",
   "execution_count": 38,
   "id": "76a4a53d-6436-4899-93bc-9f2d9e8d75e2",
   "metadata": {},
   "outputs": [
    {
     "name": "stdout",
     "output_type": "stream",
     "text": [
      "-0.09983341248709365\n",
      "-0.09983341664682815\n",
      "Error = 4.159734501296697e-09\n",
      "1.1051709641243246\n",
      "1.1051709180756477\n",
      "Error = 4.604867687163505e-08\n"
     ]
    }
   ],
   "source": [
    "t = 0.1\n",
    "h = 0.001\n",
    "deriv = (np.cos(t+(h/2)) - np.cos(t-(h/2)))/h\n",
    "print (deriv)\n",
    "\n",
    "print (-np.sin(t))\n",
    "print (\"Error =\", deriv -(-np.sin(t)))\n",
    "\n",
    "deriv = (np.e**(t+(h/2)) - np.e**(t-(h/2)))/h\n",
    "print (deriv)\n",
    "\n",
    "print(np.e**(t))\n",
    "print (\"Error =\", deriv - np.e**(t))"
   ]
  },
  {
   "cell_type": "code",
   "execution_count": 40,
   "id": "92e8cde4-bcf6-418e-b284-15db0ba33163",
   "metadata": {},
   "outputs": [
    {
     "name": "stdout",
     "output_type": "stream",
     "text": [
      "-0.8414709497465145\n",
      "-0.8414709848078965\n",
      "Error = 3.5061382019918597e-08\n",
      "2.718281941720413\n",
      "2.718281828459045\n",
      "Error = 1.1326136784006735e-07\n"
     ]
    }
   ],
   "source": [
    "t = 1 \n",
    "h = 0.001\n",
    "deriv = (np.cos(t+(h/2)) - np.cos(t-(h/2)))/h\n",
    "print (deriv)\n",
    "\n",
    "print (-np.sin(t))\n",
    "print (\"Error =\", deriv -(-np.sin(t)))\n",
    "\n",
    "deriv = (np.e**(t+(h/2)) - np.e**(t-(h/2)))/h\n",
    "print (deriv)\n",
    "\n",
    "print(np.e**(t))\n",
    "print (\"Error =\", deriv - np.e**(t))"
   ]
  },
  {
   "cell_type": "code",
   "execution_count": 42,
   "id": "44923f42-5285-4369-abc5-fbffef62e265",
   "metadata": {},
   "outputs": [
    {
     "name": "stdout",
     "output_type": "stream",
     "text": [
      "0.5063656200136046\n",
      "0.5063656411097588\n",
      "Error = -2.1096154156907687e-08\n",
      "2.688117253833873e+43\n",
      "2.6881171418161212e+43\n",
      "Error = 1.1201775169127282e+36\n"
     ]
    }
   ],
   "source": [
    "t = 100 \n",
    "h = 0.001\n",
    "deriv = (np.cos(t+(h/2)) - np.cos(t-(h/2)))/h\n",
    "print (deriv)\n",
    "\n",
    "print (-np.sin(t))\n",
    "print (\"Error =\", deriv -(-np.sin(t)))\n",
    "\n",
    "deriv = (np.e**(t+(h/2)) - np.e**(t-(h/2)))/h\n",
    "print (deriv)\n",
    "\n",
    "print(np.e**(t))\n",
    "print (\"Error =\", deriv - np.e**(t))"
   ]
  },
  {
   "cell_type": "code",
   "execution_count": null,
   "id": "bd4e8561-3ccb-42cd-a551-d9b4c3b9efaa",
   "metadata": {},
   "outputs": [],
   "source": []
  }
 ],
 "metadata": {
  "kernelspec": {
   "display_name": "Python 3 (ipykernel)",
   "language": "python",
   "name": "python3"
  },
  "language_info": {
   "codemirror_mode": {
    "name": "ipython",
    "version": 3
   },
   "file_extension": ".py",
   "mimetype": "text/x-python",
   "name": "python",
   "nbconvert_exporter": "python",
   "pygments_lexer": "ipython3",
   "version": "3.12.4"
  }
 },
 "nbformat": 4,
 "nbformat_minor": 5
}
