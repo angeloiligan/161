{
 "cells": [
  {
   "cell_type": "markdown",
   "id": "ade6c50e-92b2-4457-a24a-28f58610c7c1",
   "metadata": {},
   "source": [
    "Number 1"
   ]
  },
  {
   "cell_type": "code",
   "execution_count": 6,
   "id": "c3f52e0c-b959-4f4d-bf2c-94ec45205e8b",
   "metadata": {},
   "outputs": [
    {
     "name": "stdout",
     "output_type": "stream",
     "text": [
      "[[ 4 -2  1]\n",
      " [ 3  6 -4]\n",
      " [ 2  1  8]]\n"
     ]
    }
   ],
   "source": [
    "import numpy as np \n",
    "a = np.array([[4, -2, 1], [3, 6, -4], [2, 1, 8]])\n",
    "print (a)"
   ]
  },
  {
   "cell_type": "code",
   "execution_count": 8,
   "id": "ba32b9ab-f36f-487f-a5b9-3e6ed42f1efd",
   "metadata": {},
   "outputs": [
    {
     "data": {
      "text/plain": [
       "array([[ 1.00000000e+00, -3.46944695e-18,  5.55111512e-17],\n",
       "       [ 8.32667268e-17,  1.00000000e+00,  1.11022302e-16],\n",
       "       [ 2.77555756e-17,  1.38777878e-17,  1.00000000e+00]])"
      ]
     },
     "execution_count": 8,
     "metadata": {},
     "output_type": "execute_result"
    }
   ],
   "source": [
    "from numpy.linalg import inv\n",
    "np.dot (inv(a), a)"
   ]
  },
  {
   "cell_type": "code",
   "execution_count": 10,
   "id": "0bb8a479-411d-4314-9beb-e478382b90a1",
   "metadata": {},
   "outputs": [
    {
     "data": {
      "text/plain": [
       "array([[ 1.00000000e+00, -2.08166817e-17,  0.00000000e+00],\n",
       "       [-5.55111512e-17,  1.00000000e+00,  1.11022302e-16],\n",
       "       [ 0.00000000e+00, -2.77555756e-17,  1.00000000e+00]])"
      ]
     },
     "execution_count": 10,
     "metadata": {},
     "output_type": "execute_result"
    }
   ],
   "source": [
    "np.dot (a, inv(a))"
   ]
  },
  {
   "cell_type": "code",
   "execution_count": 12,
   "id": "e2509a97-61a2-4464-b7fe-d21a4205da25",
   "metadata": {},
   "outputs": [
    {
     "data": {
      "text/plain": [
       "array([[ 0.19771863,  0.06463878,  0.00760456],\n",
       "       [-0.121673  ,  0.11406844,  0.07224335],\n",
       "       [-0.03422053, -0.03041825,  0.11406844]])"
      ]
     },
     "execution_count": 12,
     "metadata": {},
     "output_type": "execute_result"
    }
   ],
   "source": [
    "inv(a)"
   ]
  },
  {
   "cell_type": "markdown",
   "id": "496a64a1-e947-4fcf-88d9-f8a5d2739b2d",
   "metadata": {},
   "source": [
    "Number 2"
   ]
  },
  {
   "cell_type": "code",
   "execution_count": 16,
   "id": "0f9e3daa-8ecb-4991-b7ba-26c37c87d7d0",
   "metadata": {},
   "outputs": [
    {
     "name": "stdout",
     "output_type": "stream",
     "text": [
      "[[ 4 -2  1]\n",
      " [ 3  6 -4]\n",
      " [ 2  1  8]]\n"
     ]
    }
   ],
   "source": [
    "import numpy as np \n",
    "a = np.array([[4, -2, 1], [3, 6, -4], [2, 1, 8]])\n",
    "print (a)"
   ]
  },
  {
   "cell_type": "code",
   "execution_count": 18,
   "id": "478e869d-26df-4d90-9105-0576c2762ab9",
   "metadata": {},
   "outputs": [
    {
     "name": "stdout",
     "output_type": "stream",
     "text": [
      "[ 12 -25  32]\n"
     ]
    }
   ],
   "source": [
    "b1 = np.array([12, -25, 32])\n",
    "print (b1)"
   ]
  },
  {
   "cell_type": "code",
   "execution_count": 20,
   "id": "d421f4c2-7db5-46ee-a36c-35417e4a1672",
   "metadata": {},
   "outputs": [
    {
     "name": "stdout",
     "output_type": "stream",
     "text": [
      "[ 1. -2.  4.]\n"
     ]
    }
   ],
   "source": [
    "from numpy.linalg import solve\n",
    "x1= solve (a, b1)\n",
    "print (x1)"
   ]
  },
  {
   "cell_type": "code",
   "execution_count": 24,
   "id": "f78241b0-7182-4f8b-8e47-ee2d2ab2df63",
   "metadata": {},
   "outputs": [
    {
     "name": "stdout",
     "output_type": "stream",
     "text": [
      "[ 0.31178707 -0.03802281  2.67680608]\n"
     ]
    }
   ],
   "source": [
    "b2 = np.array([4, -10, 22])\n",
    "x2 = solve (a, b2)\n",
    "print (x2)"
   ]
  },
  {
   "cell_type": "code",
   "execution_count": 26,
   "id": "2363c349-56fe-4437-931a-06922e1ff01f",
   "metadata": {},
   "outputs": [
    {
     "name": "stdout",
     "output_type": "stream",
     "text": [
      "[ 2.31939163 -2.96577947  4.79087452]\n"
     ]
    }
   ],
   "source": [
    "b3 = np.array ([20, -30, 40])\n",
    "x3 = solve (a, b3)\n",
    "print (x3)"
   ]
  },
  {
   "cell_type": "markdown",
   "id": "a90a1f10-e114-4c8b-87db-49e4dedbd07d",
   "metadata": {},
   "source": [
    "Number 3"
   ]
  },
  {
   "cell_type": "code",
   "execution_count": 29,
   "id": "31ae617b-46d3-45f2-9550-6f9ebe83f479",
   "metadata": {},
   "outputs": [
    {
     "data": {
      "text/latex": [
       "$\\displaystyle \\tan^{2}{\\left(x \\right)} + 1$"
      ],
      "text/plain": [
       "tan(x)**2 + 1"
      ]
     },
     "execution_count": 29,
     "metadata": {},
     "output_type": "execute_result"
    }
   ],
   "source": [
    "import sympy as sp\n",
    "x = sp.symbols('x')\n",
    "b = sp.tan(x)\n",
    "sp.diff(b, x)"
   ]
  },
  {
   "cell_type": "markdown",
   "id": "ed103e61-4b29-4ad3-b598-c27864f2434b",
   "metadata": {},
   "source": [
    "Number 4"
   ]
  },
  {
   "cell_type": "code",
   "execution_count": 32,
   "id": "541a7be8-70c7-46fc-80b3-53326226b6bb",
   "metadata": {},
   "outputs": [
    {
     "data": {
      "text/latex": [
       "$\\displaystyle \\sin{\\left(10 \\right)} + \\left(x - 10\\right) \\cos{\\left(10 \\right)} - \\frac{\\left(x - 10\\right)^{2} \\sin{\\left(10 \\right)}}{2} - \\frac{\\left(x - 10\\right)^{3} \\cos{\\left(10 \\right)}}{6} + \\frac{\\left(x - 10\\right)^{4} \\sin{\\left(10 \\right)}}{24} + \\frac{\\left(x - 10\\right)^{5} \\cos{\\left(10 \\right)}}{120} + O\\left(\\left(x - 10\\right)^{6}; x\\rightarrow 10\\right)$"
      ],
      "text/plain": [
       "sin(10) + (x - 10)*cos(10) - (x - 10)**2*sin(10)/2 - (x - 10)**3*cos(10)/6 + (x - 10)**4*sin(10)/24 + (x - 10)**5*cos(10)/120 + O((x - 10)**6, (x, 10))"
      ]
     },
     "execution_count": 32,
     "metadata": {},
     "output_type": "execute_result"
    }
   ],
   "source": [
    "import sympy as sp\n",
    "x = sp.symbols('x')\n",
    "A = sp.sin(x)\n",
    "A.series (x, 10)"
   ]
  },
  {
   "cell_type": "markdown",
   "id": "c336f377-e023-41fe-a324-e383289af20b",
   "metadata": {},
   "source": [
    "Number 5"
   ]
  },
  {
   "cell_type": "code",
   "execution_count": 41,
   "id": "b59eaf71-c4ed-4a8f-b65e-07179b1644d9",
   "metadata": {},
   "outputs": [
    {
     "data": {
      "text/latex": [
       "$\\displaystyle \\frac{1}{\\cos^{2}{\\left(x \\right)}}$"
      ],
      "text/plain": [
       "cos(x)**(-2)"
      ]
     },
     "execution_count": 41,
     "metadata": {},
     "output_type": "execute_result"
    }
   ],
   "source": [
    "import sympy as sp \n",
    "x = sp.symbols('x')\n",
    "b = sp.tan (x)**2\n",
    "sp.simplify(1+b)"
   ]
  },
  {
   "cell_type": "markdown",
   "id": "cf41ff87-f019-4b10-a4bf-5ee50568a50c",
   "metadata": {},
   "source": []
  }
 ],
 "metadata": {
  "kernelspec": {
   "display_name": "Python 3 (ipykernel)",
   "language": "python",
   "name": "python3"
  },
  "language_info": {
   "codemirror_mode": {
    "name": "ipython",
    "version": 3
   },
   "file_extension": ".py",
   "mimetype": "text/x-python",
   "name": "python",
   "nbconvert_exporter": "python",
   "pygments_lexer": "ipython3",
   "version": "3.12.4"
  }
 },
 "nbformat": 4,
 "nbformat_minor": 5
}
